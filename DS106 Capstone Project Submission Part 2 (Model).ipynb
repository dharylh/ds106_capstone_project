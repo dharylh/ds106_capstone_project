{
 "cells": [
  {
   "cell_type": "markdown",
   "id": "47cd409c",
   "metadata": {},
   "source": [
    "## Import Libraries"
   ]
  },
  {
   "cell_type": "code",
   "execution_count": 1,
   "id": "1eae1277",
   "metadata": {},
   "outputs": [],
   "source": [
    "import pandas as pd\n",
    "import numpy as np\n",
    "import matplotlib.pyplot as plt"
   ]
  },
  {
   "cell_type": "markdown",
   "id": "6fd186a5",
   "metadata": {},
   "source": [
    "## Read-in data from prepared dataset"
   ]
  },
  {
   "cell_type": "code",
   "execution_count": 2,
   "id": "39af28cd",
   "metadata": {},
   "outputs": [
    {
     "data": {
      "text/html": [
       "<div>\n",
       "<style scoped>\n",
       "    .dataframe tbody tr th:only-of-type {\n",
       "        vertical-align: middle;\n",
       "    }\n",
       "\n",
       "    .dataframe tbody tr th {\n",
       "        vertical-align: top;\n",
       "    }\n",
       "\n",
       "    .dataframe thead th {\n",
       "        text-align: right;\n",
       "    }\n",
       "</style>\n",
       "<table border=\"1\" class=\"dataframe\">\n",
       "  <thead>\n",
       "    <tr style=\"text-align: right;\">\n",
       "      <th></th>\n",
       "      <th>Date</th>\n",
       "      <th>Open</th>\n",
       "      <th>High</th>\n",
       "      <th>Low</th>\n",
       "      <th>Close</th>\n",
       "      <th>Adj Close</th>\n",
       "      <th>Volume</th>\n",
       "      <th>VIX Close</th>\n",
       "      <th>MACDs_12_26_9</th>\n",
       "      <th>RSI_14</th>\n",
       "      <th>HOUSTNSA</th>\n",
       "      <th>UNRATENSA</th>\n",
       "      <th>NA000334Q</th>\n",
       "      <th>FEDFUNDS</th>\n",
       "    </tr>\n",
       "  </thead>\n",
       "  <tbody>\n",
       "    <tr>\n",
       "      <th>0</th>\n",
       "      <td>1993-03-18</td>\n",
       "      <td>45.218750</td>\n",
       "      <td>45.500000</td>\n",
       "      <td>45.218750</td>\n",
       "      <td>45.312500</td>\n",
       "      <td>25.812656</td>\n",
       "      <td>59300</td>\n",
       "      <td>14.170000</td>\n",
       "      <td>0.341036</td>\n",
       "      <td>57.813462</td>\n",
       "      <td>95.5</td>\n",
       "      <td>7.4</td>\n",
       "      <td>1638139.0</td>\n",
       "      <td>3.07</td>\n",
       "    </tr>\n",
       "    <tr>\n",
       "      <th>1</th>\n",
       "      <td>1993-03-19</td>\n",
       "      <td>45.281250</td>\n",
       "      <td>45.281250</td>\n",
       "      <td>45.031250</td>\n",
       "      <td>45.031250</td>\n",
       "      <td>25.773586</td>\n",
       "      <td>66900</td>\n",
       "      <td>13.230000</td>\n",
       "      <td>0.327421</td>\n",
       "      <td>52.897133</td>\n",
       "      <td>95.5</td>\n",
       "      <td>7.4</td>\n",
       "      <td>1638139.0</td>\n",
       "      <td>3.07</td>\n",
       "    </tr>\n",
       "    <tr>\n",
       "      <th>2</th>\n",
       "      <td>1993-03-22</td>\n",
       "      <td>44.593750</td>\n",
       "      <td>44.875000</td>\n",
       "      <td>44.562500</td>\n",
       "      <td>44.781250</td>\n",
       "      <td>25.630501</td>\n",
       "      <td>183400</td>\n",
       "      <td>13.660000</td>\n",
       "      <td>0.306865</td>\n",
       "      <td>48.915251</td>\n",
       "      <td>95.5</td>\n",
       "      <td>7.4</td>\n",
       "      <td>1638139.0</td>\n",
       "      <td>3.07</td>\n",
       "    </tr>\n",
       "    <tr>\n",
       "      <th>3</th>\n",
       "      <td>1993-03-23</td>\n",
       "      <td>44.906250</td>\n",
       "      <td>44.937500</td>\n",
       "      <td>44.812500</td>\n",
       "      <td>44.875000</td>\n",
       "      <td>25.684151</td>\n",
       "      <td>55200</td>\n",
       "      <td>13.020000</td>\n",
       "      <td>0.283831</td>\n",
       "      <td>50.422405</td>\n",
       "      <td>95.5</td>\n",
       "      <td>7.4</td>\n",
       "      <td>1638139.0</td>\n",
       "      <td>3.07</td>\n",
       "    </tr>\n",
       "    <tr>\n",
       "      <th>4</th>\n",
       "      <td>1993-03-24</td>\n",
       "      <td>44.812500</td>\n",
       "      <td>45.062500</td>\n",
       "      <td>44.593750</td>\n",
       "      <td>44.875000</td>\n",
       "      <td>25.684151</td>\n",
       "      <td>37200</td>\n",
       "      <td>12.440000</td>\n",
       "      <td>0.259806</td>\n",
       "      <td>50.422405</td>\n",
       "      <td>95.5</td>\n",
       "      <td>7.4</td>\n",
       "      <td>1638139.0</td>\n",
       "      <td>3.07</td>\n",
       "    </tr>\n",
       "    <tr>\n",
       "      <th>...</th>\n",
       "      <td>...</td>\n",
       "      <td>...</td>\n",
       "      <td>...</td>\n",
       "      <td>...</td>\n",
       "      <td>...</td>\n",
       "      <td>...</td>\n",
       "      <td>...</td>\n",
       "      <td>...</td>\n",
       "      <td>...</td>\n",
       "      <td>...</td>\n",
       "      <td>...</td>\n",
       "      <td>...</td>\n",
       "      <td>...</td>\n",
       "      <td>...</td>\n",
       "    </tr>\n",
       "    <tr>\n",
       "      <th>7560</th>\n",
       "      <td>2023-03-27</td>\n",
       "      <td>398.119995</td>\n",
       "      <td>398.920013</td>\n",
       "      <td>395.559998</td>\n",
       "      <td>396.489990</td>\n",
       "      <td>395.022644</td>\n",
       "      <td>74010400</td>\n",
       "      <td>20.600000</td>\n",
       "      <td>-2.166462</td>\n",
       "      <td>50.237958</td>\n",
       "      <td>113.6</td>\n",
       "      <td>3.6</td>\n",
       "      <td>6475560.0</td>\n",
       "      <td>4.65</td>\n",
       "    </tr>\n",
       "    <tr>\n",
       "      <th>7561</th>\n",
       "      <td>2023-03-28</td>\n",
       "      <td>395.769989</td>\n",
       "      <td>396.489990</td>\n",
       "      <td>393.690002</td>\n",
       "      <td>395.600006</td>\n",
       "      <td>394.135956</td>\n",
       "      <td>62871700</td>\n",
       "      <td>19.969999</td>\n",
       "      <td>-2.011635</td>\n",
       "      <td>49.308792</td>\n",
       "      <td>113.6</td>\n",
       "      <td>3.6</td>\n",
       "      <td>6475560.0</td>\n",
       "      <td>4.65</td>\n",
       "    </tr>\n",
       "    <tr>\n",
       "      <th>7562</th>\n",
       "      <td>2023-03-29</td>\n",
       "      <td>399.929993</td>\n",
       "      <td>401.600006</td>\n",
       "      <td>398.679993</td>\n",
       "      <td>401.350006</td>\n",
       "      <td>399.864655</td>\n",
       "      <td>77497900</td>\n",
       "      <td>19.120001</td>\n",
       "      <td>-1.761706</td>\n",
       "      <td>55.088303</td>\n",
       "      <td>113.6</td>\n",
       "      <td>3.6</td>\n",
       "      <td>6475560.0</td>\n",
       "      <td>4.65</td>\n",
       "    </tr>\n",
       "    <tr>\n",
       "      <th>7563</th>\n",
       "      <td>2023-03-30</td>\n",
       "      <td>404.089996</td>\n",
       "      <td>404.350006</td>\n",
       "      <td>401.760010</td>\n",
       "      <td>403.700012</td>\n",
       "      <td>402.205963</td>\n",
       "      <td>69840000</td>\n",
       "      <td>19.020000</td>\n",
       "      <td>-1.423762</td>\n",
       "      <td>57.234351</td>\n",
       "      <td>113.6</td>\n",
       "      <td>3.6</td>\n",
       "      <td>6475560.0</td>\n",
       "      <td>4.65</td>\n",
       "    </tr>\n",
       "    <tr>\n",
       "      <th>7564</th>\n",
       "      <td>2023-03-31</td>\n",
       "      <td>404.660004</td>\n",
       "      <td>409.700012</td>\n",
       "      <td>404.549988</td>\n",
       "      <td>409.390015</td>\n",
       "      <td>407.874908</td>\n",
       "      <td>112062600</td>\n",
       "      <td>18.700001</td>\n",
       "      <td>-0.954342</td>\n",
       "      <td>61.972472</td>\n",
       "      <td>113.6</td>\n",
       "      <td>3.6</td>\n",
       "      <td>6475560.0</td>\n",
       "      <td>4.65</td>\n",
       "    </tr>\n",
       "  </tbody>\n",
       "</table>\n",
       "<p>7565 rows × 14 columns</p>\n",
       "</div>"
      ],
      "text/plain": [
       "            Date        Open        High         Low       Close   Adj Close  \\\n",
       "0     1993-03-18   45.218750   45.500000   45.218750   45.312500   25.812656   \n",
       "1     1993-03-19   45.281250   45.281250   45.031250   45.031250   25.773586   \n",
       "2     1993-03-22   44.593750   44.875000   44.562500   44.781250   25.630501   \n",
       "3     1993-03-23   44.906250   44.937500   44.812500   44.875000   25.684151   \n",
       "4     1993-03-24   44.812500   45.062500   44.593750   44.875000   25.684151   \n",
       "...          ...         ...         ...         ...         ...         ...   \n",
       "7560  2023-03-27  398.119995  398.920013  395.559998  396.489990  395.022644   \n",
       "7561  2023-03-28  395.769989  396.489990  393.690002  395.600006  394.135956   \n",
       "7562  2023-03-29  399.929993  401.600006  398.679993  401.350006  399.864655   \n",
       "7563  2023-03-30  404.089996  404.350006  401.760010  403.700012  402.205963   \n",
       "7564  2023-03-31  404.660004  409.700012  404.549988  409.390015  407.874908   \n",
       "\n",
       "         Volume  VIX Close  MACDs_12_26_9     RSI_14  HOUSTNSA  UNRATENSA  \\\n",
       "0         59300  14.170000       0.341036  57.813462      95.5        7.4   \n",
       "1         66900  13.230000       0.327421  52.897133      95.5        7.4   \n",
       "2        183400  13.660000       0.306865  48.915251      95.5        7.4   \n",
       "3         55200  13.020000       0.283831  50.422405      95.5        7.4   \n",
       "4         37200  12.440000       0.259806  50.422405      95.5        7.4   \n",
       "...         ...        ...            ...        ...       ...        ...   \n",
       "7560   74010400  20.600000      -2.166462  50.237958     113.6        3.6   \n",
       "7561   62871700  19.969999      -2.011635  49.308792     113.6        3.6   \n",
       "7562   77497900  19.120001      -1.761706  55.088303     113.6        3.6   \n",
       "7563   69840000  19.020000      -1.423762  57.234351     113.6        3.6   \n",
       "7564  112062600  18.700001      -0.954342  61.972472     113.6        3.6   \n",
       "\n",
       "      NA000334Q  FEDFUNDS  \n",
       "0     1638139.0      3.07  \n",
       "1     1638139.0      3.07  \n",
       "2     1638139.0      3.07  \n",
       "3     1638139.0      3.07  \n",
       "4     1638139.0      3.07  \n",
       "...         ...       ...  \n",
       "7560  6475560.0      4.65  \n",
       "7561  6475560.0      4.65  \n",
       "7562  6475560.0      4.65  \n",
       "7563  6475560.0      4.65  \n",
       "7564  6475560.0      4.65  \n",
       "\n",
       "[7565 rows x 14 columns]"
      ]
     },
     "execution_count": 2,
     "metadata": {},
     "output_type": "execute_result"
    }
   ],
   "source": [
    "df = pd.read_csv(\"spy.csv\")\n",
    "df"
   ]
  },
  {
   "cell_type": "code",
   "execution_count": 3,
   "id": "2fe54bf6",
   "metadata": {},
   "outputs": [
    {
     "data": {
      "text/plain": [
       "<AxesSubplot:>"
      ]
     },
     "execution_count": 3,
     "metadata": {},
     "output_type": "execute_result"
    },
    {
     "data": {
      "image/png": "[encoded data removed]",
      "text/plain": [
       "<Figure size 1152x576 with 1 Axes>"
      ]
     },
     "metadata": {
      "needs_background": "light"
     },
     "output_type": "display_data"
    }
   ],
   "source": [
    "# short visualization of target\n",
    "plt.subplots(figsize=(16,8))\n",
    "df['Adj Close'].plot()"
   ]
  },
  {
   "cell_type": "markdown",
   "id": "389ce391",
   "metadata": {},
   "source": [
    "## Feature Selection & Target Labeling"
   ]
  },
  {
   "cell_type": "markdown",
   "id": "d2c5e597",
   "metadata": {},
   "source": [
    "#### In the machine learning process, feature selection is used to make the process more accurate. It also increases the prediction power of the algorithms by selecting the most critical variables and eliminating the redundant and irrelevant ones."
   ]
  },
  {
   "cell_type": "code",
   "execution_count": 4,
   "id": "24ea6dec",
   "metadata": {},
   "outputs": [],
   "source": [
    "#Set Target Variable\n",
    "output_var = pd.DataFrame(df['Adj Close'])\n",
    "#Selecting the Features\n",
    "features = ['Open', 'High', 'Low', 'Volume', 'VIX Close', 'MACDs_12_26_9',\n",
    "            'RSI_14', 'HOUSTNSA', 'UNRATENSA', 'NA000334Q', 'FEDFUNDS']"
   ]
  },
  {
   "cell_type": "markdown",
   "id": "ab932292",
   "metadata": {},
   "source": [
    "## Scaling the Data"
   ]
  },
  {
   "cell_type": "markdown",
   "id": "a0378aa5",
   "metadata": {},
   "source": [
    "#### Feature scaling is the process of normalising the range of features in a dataset. Real-world datasets often contain features that are varying in degrees of magnitude, range and units. Therefore, in order for machine learning models to interpret these features on the same scale, we need to perform feature scaling."
   ]
  },
  {
   "cell_type": "code",
   "execution_count": 5,
   "id": "9cfd892b",
   "metadata": {},
   "outputs": [
    {
     "data": {
      "text/html": [
       "<div>\n",
       "<style scoped>\n",
       "    .dataframe tbody tr th:only-of-type {\n",
       "        vertical-align: middle;\n",
       "    }\n",
       "\n",
       "    .dataframe tbody tr th {\n",
       "        vertical-align: top;\n",
       "    }\n",
       "\n",
       "    .dataframe thead th {\n",
       "        text-align: right;\n",
       "    }\n",
       "</style>\n",
       "<table border=\"1\" class=\"dataframe\">\n",
       "  <thead>\n",
       "    <tr style=\"text-align: right;\">\n",
       "      <th></th>\n",
       "      <th>Open</th>\n",
       "      <th>High</th>\n",
       "      <th>Low</th>\n",
       "      <th>Volume</th>\n",
       "      <th>VIX Close</th>\n",
       "      <th>MACDs_12_26_9</th>\n",
       "      <th>RSI_14</th>\n",
       "      <th>HOUSTNSA</th>\n",
       "      <th>UNRATENSA</th>\n",
       "      <th>NA000334Q</th>\n",
       "      <th>FEDFUNDS</th>\n",
       "    </tr>\n",
       "  </thead>\n",
       "  <tbody>\n",
       "    <tr>\n",
       "      <th>0</th>\n",
       "      <td>0.004302</td>\n",
       "      <td>0.003726</td>\n",
       "      <td>0.004477</td>\n",
       "      <td>0.000062</td>\n",
       "      <td>0.068389</td>\n",
       "      <td>0.718958</td>\n",
       "      <td>0.584566</td>\n",
       "      <td>0.383133</td>\n",
       "      <td>0.369369</td>\n",
       "      <td>0.000000</td>\n",
       "      <td>0.465331</td>\n",
       "    </tr>\n",
       "    <tr>\n",
       "      <th>1</th>\n",
       "      <td>0.004445</td>\n",
       "      <td>0.003225</td>\n",
       "      <td>0.004044</td>\n",
       "      <td>0.000071</td>\n",
       "      <td>0.055608</td>\n",
       "      <td>0.718474</td>\n",
       "      <td>0.514663</td>\n",
       "      <td>0.383133</td>\n",
       "      <td>0.369369</td>\n",
       "      <td>0.000000</td>\n",
       "      <td>0.465331</td>\n",
       "    </tr>\n",
       "    <tr>\n",
       "      <th>2</th>\n",
       "      <td>0.002868</td>\n",
       "      <td>0.002293</td>\n",
       "      <td>0.002961</td>\n",
       "      <td>0.000205</td>\n",
       "      <td>0.061455</td>\n",
       "      <td>0.717744</td>\n",
       "      <td>0.458046</td>\n",
       "      <td>0.383133</td>\n",
       "      <td>0.369369</td>\n",
       "      <td>0.000000</td>\n",
       "      <td>0.465331</td>\n",
       "    </tr>\n",
       "    <tr>\n",
       "      <th>3</th>\n",
       "      <td>0.003585</td>\n",
       "      <td>0.002436</td>\n",
       "      <td>0.003538</td>\n",
       "      <td>0.000057</td>\n",
       "      <td>0.052753</td>\n",
       "      <td>0.716926</td>\n",
       "      <td>0.479475</td>\n",
       "      <td>0.383133</td>\n",
       "      <td>0.369369</td>\n",
       "      <td>0.000000</td>\n",
       "      <td>0.465331</td>\n",
       "    </tr>\n",
       "    <tr>\n",
       "      <th>4</th>\n",
       "      <td>0.003370</td>\n",
       "      <td>0.002723</td>\n",
       "      <td>0.003033</td>\n",
       "      <td>0.000037</td>\n",
       "      <td>0.044867</td>\n",
       "      <td>0.716072</td>\n",
       "      <td>0.479475</td>\n",
       "      <td>0.383133</td>\n",
       "      <td>0.369369</td>\n",
       "      <td>0.000000</td>\n",
       "      <td>0.465331</td>\n",
       "    </tr>\n",
       "    <tr>\n",
       "      <th>...</th>\n",
       "      <td>...</td>\n",
       "      <td>...</td>\n",
       "      <td>...</td>\n",
       "      <td>...</td>\n",
       "      <td>...</td>\n",
       "      <td>...</td>\n",
       "      <td>...</td>\n",
       "      <td>...</td>\n",
       "      <td>...</td>\n",
       "      <td>...</td>\n",
       "      <td>...</td>\n",
       "    </tr>\n",
       "    <tr>\n",
       "      <th>7560</th>\n",
       "      <td>0.813938</td>\n",
       "      <td>0.814127</td>\n",
       "      <td>0.813993</td>\n",
       "      <td>0.084964</td>\n",
       "      <td>0.155812</td>\n",
       "      <td>0.629867</td>\n",
       "      <td>0.476853</td>\n",
       "      <td>0.492169</td>\n",
       "      <td>0.027027</td>\n",
       "      <td>0.964229</td>\n",
       "      <td>0.708783</td>\n",
       "    </tr>\n",
       "    <tr>\n",
       "      <th>7561</th>\n",
       "      <td>0.808547</td>\n",
       "      <td>0.808555</td>\n",
       "      <td>0.809672</td>\n",
       "      <td>0.072176</td>\n",
       "      <td>0.147247</td>\n",
       "      <td>0.635368</td>\n",
       "      <td>0.463641</td>\n",
       "      <td>0.492169</td>\n",
       "      <td>0.027027</td>\n",
       "      <td>0.964229</td>\n",
       "      <td>0.708783</td>\n",
       "    </tr>\n",
       "    <tr>\n",
       "      <th>7562</th>\n",
       "      <td>0.818091</td>\n",
       "      <td>0.820273</td>\n",
       "      <td>0.821202</td>\n",
       "      <td>0.088968</td>\n",
       "      <td>0.135690</td>\n",
       "      <td>0.644248</td>\n",
       "      <td>0.545818</td>\n",
       "      <td>0.492169</td>\n",
       "      <td>0.027027</td>\n",
       "      <td>0.964229</td>\n",
       "      <td>0.708783</td>\n",
       "    </tr>\n",
       "    <tr>\n",
       "      <th>7563</th>\n",
       "      <td>0.827635</td>\n",
       "      <td>0.826578</td>\n",
       "      <td>0.828319</td>\n",
       "      <td>0.080176</td>\n",
       "      <td>0.134330</td>\n",
       "      <td>0.656255</td>\n",
       "      <td>0.576332</td>\n",
       "      <td>0.492169</td>\n",
       "      <td>0.027027</td>\n",
       "      <td>0.964229</td>\n",
       "      <td>0.708783</td>\n",
       "    </tr>\n",
       "    <tr>\n",
       "      <th>7564</th>\n",
       "      <td>0.828942</td>\n",
       "      <td>0.838846</td>\n",
       "      <td>0.834765</td>\n",
       "      <td>0.128651</td>\n",
       "      <td>0.129980</td>\n",
       "      <td>0.672933</td>\n",
       "      <td>0.643702</td>\n",
       "      <td>0.492169</td>\n",
       "      <td>0.027027</td>\n",
       "      <td>0.964229</td>\n",
       "      <td>0.708783</td>\n",
       "    </tr>\n",
       "  </tbody>\n",
       "</table>\n",
       "<p>7565 rows × 11 columns</p>\n",
       "</div>"
      ],
      "text/plain": [
       "          Open      High       Low    Volume  VIX Close  MACDs_12_26_9  \\\n",
       "0     0.004302  0.003726  0.004477  0.000062   0.068389       0.718958   \n",
       "1     0.004445  0.003225  0.004044  0.000071   0.055608       0.718474   \n",
       "2     0.002868  0.002293  0.002961  0.000205   0.061455       0.717744   \n",
       "3     0.003585  0.002436  0.003538  0.000057   0.052753       0.716926   \n",
       "4     0.003370  0.002723  0.003033  0.000037   0.044867       0.716072   \n",
       "...        ...       ...       ...       ...        ...            ...   \n",
       "7560  0.813938  0.814127  0.813993  0.084964   0.155812       0.629867   \n",
       "7561  0.808547  0.808555  0.809672  0.072176   0.147247       0.635368   \n",
       "7562  0.818091  0.820273  0.821202  0.088968   0.135690       0.644248   \n",
       "7563  0.827635  0.826578  0.828319  0.080176   0.134330       0.656255   \n",
       "7564  0.828942  0.838846  0.834765  0.128651   0.129980       0.672933   \n",
       "\n",
       "        RSI_14  HOUSTNSA  UNRATENSA  NA000334Q  FEDFUNDS  \n",
       "0     0.584566  0.383133   0.369369   0.000000  0.465331  \n",
       "1     0.514663  0.383133   0.369369   0.000000  0.465331  \n",
       "2     0.458046  0.383133   0.369369   0.000000  0.465331  \n",
       "3     0.479475  0.383133   0.369369   0.000000  0.465331  \n",
       "4     0.479475  0.383133   0.369369   0.000000  0.465331  \n",
       "...        ...       ...        ...        ...       ...  \n",
       "7560  0.476853  0.492169   0.027027   0.964229  0.708783  \n",
       "7561  0.463641  0.492169   0.027027   0.964229  0.708783  \n",
       "7562  0.545818  0.492169   0.027027   0.964229  0.708783  \n",
       "7563  0.576332  0.492169   0.027027   0.964229  0.708783  \n",
       "7564  0.643702  0.492169   0.027027   0.964229  0.708783  \n",
       "\n",
       "[7565 rows x 11 columns]"
      ]
     },
     "execution_count": 5,
     "metadata": {},
     "output_type": "execute_result"
    }
   ],
   "source": [
    "#MinmaxScaling (feature_range=(0,1))\n",
    "from sklearn.preprocessing import MinMaxScaler\n",
    "scaler = MinMaxScaler()\n",
    "feature_transform = scaler.fit_transform(df[features])\n",
    "feature_transform= pd.DataFrame(columns=features, data=feature_transform, index=df.index)\n",
    "feature_transform"
   ]
  },
  {
   "cell_type": "markdown",
   "id": "03c3201f",
   "metadata": {},
   "source": [
    "## Train, Test split"
   ]
  },
  {
   "cell_type": "markdown",
   "id": "7b9b8a29",
   "metadata": {},
   "source": [
    "#### The train-test split procedure is used to estimate the performance of machine learning algorithms when they are used to make predictions on data not used to train the model. Splitting your dataset is essential for an unbiased evaluation of prediction performance."
   ]
  },
  {
   "cell_type": "code",
   "execution_count": 6,
   "id": "02a40e05",
   "metadata": {},
   "outputs": [],
   "source": [
    "#Splitting to Training set and Test set\n",
    "from sklearn.model_selection import TimeSeriesSplit\n",
    "\n",
    "timesplit= TimeSeriesSplit(n_splits=5)\n",
    "for train_index, test_index in timesplit.split(feature_transform):\n",
    "        X_train, X_test = feature_transform[:len(train_index)], feature_transform[len(train_index): (len(train_index)+len(test_index))]\n",
    "        y_train, y_test = output_var[:len(train_index)].values.ravel(), output_var[len(train_index): (len(train_index)+len(test_index))].values.ravel()\n",
    "\n",
    "# approximately~ 83%-17% split"
   ]
  },
  {
   "cell_type": "markdown",
   "id": "651a8a67",
   "metadata": {},
   "source": [
    "## Prepare the data for LSTM input"
   ]
  },
  {
   "cell_type": "markdown",
   "id": "da56ed32",
   "metadata": {},
   "source": [
    "#### Long short-term memory (LSTM) is an artificial neural network used in the fields of artificial intelligence and deep learning. Unlike standard feedforward neural networks, LSTM has feedback connections. <br> Such a recurrent neural network (RNN) can process not only single data points (such as images), but also entire sequences of data (such as speech or video). This characteristic makes LSTM networks ideal for processing and predicting data."
   ]
  },
  {
   "cell_type": "code",
   "execution_count": 7,
   "id": "b0becb86",
   "metadata": {},
   "outputs": [],
   "source": [
    "#Process the data for LSTM\n",
    "trainX =np.array(X_train)\n",
    "testX =np.array(X_test)\n",
    "X_train = trainX.reshape(X_train.shape[0], 1, X_train.shape[1])\n",
    "X_test = testX.reshape(X_test.shape[0], 1, X_test.shape[1])"
   ]
  },
  {
   "cell_type": "markdown",
   "id": "2d165170",
   "metadata": {},
   "source": [
    "## Model Building"
   ]
  },
  {
   "cell_type": "code",
   "execution_count": 8,
   "id": "177cd067",
   "metadata": {},
   "outputs": [],
   "source": [
    "from tensorflow import keras\n",
    "from keras.models import Sequential\n",
    "from keras.layers import Dense, LSTM, Dropout\n",
    "\n",
    "#Define network\n",
    "lstm = Sequential()\n",
    "lstm.add(LSTM(32, input_shape=(1, trainX.shape[1]), activation='relu', return_sequences=False))\n",
    "lstm.add(Dense(1))\n",
    "\n",
    "#Compile network\n",
    "lstm.compile(loss='mean_squared_error', optimizer='adam',\n",
    "            metrics=[keras.metrics.MeanAbsoluteError(),keras.losses.MeanAbsolutePercentageError(),\n",
    "                                                                keras.metrics.RootMeanSquaredError()])"
   ]
  },
  {
   "cell_type": "markdown",
   "id": "e7074ef1",
   "metadata": {},
   "source": [
    "## Model Training"
   ]
  },
  {
   "cell_type": "code",
   "execution_count": 9,
   "id": "3b995e25",
   "metadata": {
    "scrolled": true
   },
   "outputs": [
    {
     "name": "stdout",
     "output_type": "stream",
     "text": [
      "Epoch 1/100\n",
      "789/789 [==============================] - 2s 1ms/step - loss: 3102.7688 - mean_absolute_error: 52.9818 - mean_absolute_percentage_error: 64.6135 - root_mean_squared_error: 55.7025\n",
      "Epoch 2/100\n",
      "789/789 [==============================] - 1s 1ms/step - loss: 1064.0256 - mean_absolute_error: 24.8742 - mean_absolute_percentage_error: 44.1013 - root_mean_squared_error: 32.6194\n",
      "Epoch 3/100\n",
      "789/789 [==============================] - 1s 1ms/step - loss: 592.5248 - mean_absolute_error: 18.3332 - mean_absolute_percentage_error: 33.8337 - root_mean_squared_error: 24.3418\n",
      "Epoch 4/100\n",
      "789/789 [==============================] - 1s 1ms/step - loss: 196.9220 - mean_absolute_error: 10.8620 - mean_absolute_percentage_error: 18.4571 - root_mean_squared_error: 14.0329\n",
      "Epoch 5/100\n",
      "789/789 [==============================] - 1s 1ms/step - loss: 63.9738 - mean_absolute_error: 6.1577 - mean_absolute_percentage_error: 8.0347 - root_mean_squared_error: 7.9984\n",
      "Epoch 6/100\n",
      "789/789 [==============================] - 1s 1ms/step - loss: 40.5150 - mean_absolute_error: 5.0675 - mean_absolute_percentage_error: 7.2057 - root_mean_squared_error: 6.3651\n",
      "Epoch 7/100\n",
      "789/789 [==============================] - 1s 1ms/step - loss: 34.5066 - mean_absolute_error: 4.7336 - mean_absolute_percentage_error: 7.7947 - root_mean_squared_error: 5.8742\n",
      "Epoch 8/100\n",
      "789/789 [==============================] - 1s 1ms/step - loss: 28.1041 - mean_absolute_error: 4.2398 - mean_absolute_percentage_error: 7.2476 - root_mean_squared_error: 5.3013\n",
      "Epoch 9/100\n",
      "789/789 [==============================] - 1s 1ms/step - loss: 21.1251 - mean_absolute_error: 3.6724 - mean_absolute_percentage_error: 6.2372 - root_mean_squared_error: 4.5962\n",
      "Epoch 10/100\n",
      "789/789 [==============================] - 1s 1ms/step - loss: 15.0290 - mean_absolute_error: 3.1018 - mean_absolute_percentage_error: 5.1122 - root_mean_squared_error: 3.8767\n",
      "Epoch 11/100\n",
      "789/789 [==============================] - 1s 1ms/step - loss: 10.4887 - mean_absolute_error: 2.5885 - mean_absolute_percentage_error: 4.0605 - root_mean_squared_error: 3.2386\n",
      "Epoch 12/100\n",
      "789/789 [==============================] - 1s 1ms/step - loss: 7.4839 - mean_absolute_error: 2.1715 - mean_absolute_percentage_error: 3.1794 - root_mean_squared_error: 2.7357\n",
      "Epoch 13/100\n",
      "789/789 [==============================] - 1s 1ms/step - loss: 5.6618 - mean_absolute_error: 1.8518 - mean_absolute_percentage_error: 2.4899 - root_mean_squared_error: 2.3795\n",
      "Epoch 14/100\n",
      "789/789 [==============================] - 1s 1ms/step - loss: 4.6122 - mean_absolute_error: 1.6253 - mean_absolute_percentage_error: 2.0125 - root_mean_squared_error: 2.1476\n",
      "Epoch 15/100\n",
      "789/789 [==============================] - 1s 1ms/step - loss: 4.0176 - mean_absolute_error: 1.5056 - mean_absolute_percentage_error: 1.8249 - root_mean_squared_error: 2.0044\n",
      "Epoch 16/100\n",
      "789/789 [==============================] - 1s 1ms/step - loss: 3.6849 - mean_absolute_error: 1.4621 - mean_absolute_percentage_error: 1.8467 - root_mean_squared_error: 1.9196\n",
      "Epoch 17/100\n",
      "789/789 [==============================] - 1s 1ms/step - loss: 3.5170 - mean_absolute_error: 1.4432 - mean_absolute_percentage_error: 1.8913 - root_mean_squared_error: 1.8754\n",
      "Epoch 18/100\n",
      "789/789 [==============================] - 1s 1ms/step - loss: 3.4560 - mean_absolute_error: 1.4438 - mean_absolute_percentage_error: 1.9450 - root_mean_squared_error: 1.8590\n",
      "Epoch 19/100\n",
      "789/789 [==============================] - 1s 1ms/step - loss: 3.4650 - mean_absolute_error: 1.4593 - mean_absolute_percentage_error: 2.0057 - root_mean_squared_error: 1.8615\n",
      "Epoch 20/100\n",
      "789/789 [==============================] - 1s 1ms/step - loss: 3.5268 - mean_absolute_error: 1.4844 - mean_absolute_percentage_error: 2.0712 - root_mean_squared_error: 1.8780\n",
      "Epoch 21/100\n",
      "789/789 [==============================] - 1s 1ms/step - loss: 3.6193 - mean_absolute_error: 1.5131 - mean_absolute_percentage_error: 2.1338 - root_mean_squared_error: 1.9024\n",
      "Epoch 22/100\n",
      "789/789 [==============================] - 1s 1ms/step - loss: 3.7217 - mean_absolute_error: 1.5421 - mean_absolute_percentage_error: 2.1898 - root_mean_squared_error: 1.9292\n",
      "Epoch 23/100\n",
      "789/789 [==============================] - 1s 1ms/step - loss: 3.8161 - mean_absolute_error: 1.5670 - mean_absolute_percentage_error: 2.2337 - root_mean_squared_error: 1.9535\n",
      "Epoch 24/100\n",
      "789/789 [==============================] - 1s 1ms/step - loss: 3.8880 - mean_absolute_error: 1.5846 - mean_absolute_percentage_error: 2.2614 - root_mean_squared_error: 1.9718\n",
      "Epoch 25/100\n",
      "789/789 [==============================] - 1s 1ms/step - loss: 3.9303 - mean_absolute_error: 1.5945 - mean_absolute_percentage_error: 2.2727 - root_mean_squared_error: 1.9825\n",
      "Epoch 26/100\n",
      "789/789 [==============================] - 1s 1ms/step - loss: 3.9349 - mean_absolute_error: 1.5948 - mean_absolute_percentage_error: 2.2639 - root_mean_squared_error: 1.9837\n",
      "Epoch 27/100\n",
      "789/789 [==============================] - 1s 1ms/step - loss: 3.9052 - mean_absolute_error: 1.5868 - mean_absolute_percentage_error: 2.2381 - root_mean_squared_error: 1.9762\n",
      "Epoch 28/100\n",
      "789/789 [==============================] - 1s 1ms/step - loss: 3.8485 - mean_absolute_error: 1.5722 - mean_absolute_percentage_error: 2.1995 - root_mean_squared_error: 1.9618\n",
      "Epoch 29/100\n",
      "789/789 [==============================] - 1s 1ms/step - loss: 3.7708 - mean_absolute_error: 1.5520 - mean_absolute_percentage_error: 2.1507 - root_mean_squared_error: 1.9418\n",
      "Epoch 30/100\n",
      "789/789 [==============================] - 1s 1ms/step - loss: 3.6796 - mean_absolute_error: 1.5277 - mean_absolute_percentage_error: 2.0951 - root_mean_squared_error: 1.9182\n",
      "Epoch 31/100\n",
      "789/789 [==============================] - 1s 1ms/step - loss: 3.5808 - mean_absolute_error: 1.5006 - mean_absolute_percentage_error: 2.0348 - root_mean_squared_error: 1.8923\n",
      "Epoch 32/100\n",
      "789/789 [==============================] - 1s 1ms/step - loss: 3.4805 - mean_absolute_error: 1.4723 - mean_absolute_percentage_error: 1.9739 - root_mean_squared_error: 1.8656\n",
      "Epoch 33/100\n",
      "789/789 [==============================] - 1s 1ms/step - loss: 3.3816 - mean_absolute_error: 1.4441 - mean_absolute_percentage_error: 1.9145 - root_mean_squared_error: 1.8389\n",
      "Epoch 34/100\n",
      "789/789 [==============================] - 1s 1ms/step - loss: 3.2873 - mean_absolute_error: 1.4166 - mean_absolute_percentage_error: 1.8586 - root_mean_squared_error: 1.8131\n",
      "Epoch 35/100\n",
      "789/789 [==============================] - 1s 1ms/step - loss: 3.1980 - mean_absolute_error: 1.3901 - mean_absolute_percentage_error: 1.8062 - root_mean_squared_error: 1.7883\n",
      "Epoch 36/100\n",
      "789/789 [==============================] - 1s 1ms/step - loss: 3.1144 - mean_absolute_error: 1.3656 - mean_absolute_percentage_error: 1.7603 - root_mean_squared_error: 1.7648\n",
      "Epoch 37/100\n",
      "789/789 [==============================] - 1s 1ms/step - loss: 3.0367 - mean_absolute_error: 1.3428 - mean_absolute_percentage_error: 1.7193 - root_mean_squared_error: 1.7426\n",
      "Epoch 38/100\n",
      "789/789 [==============================] - 1s 1ms/step - loss: 2.9649 - mean_absolute_error: 1.3218 - mean_absolute_percentage_error: 1.6830 - root_mean_squared_error: 1.7219\n",
      "Epoch 39/100\n",
      "789/789 [==============================] - 1s 1ms/step - loss: 2.8984 - mean_absolute_error: 1.3024 - mean_absolute_percentage_error: 1.6506 - root_mean_squared_error: 1.7025\n",
      "Epoch 40/100\n",
      "789/789 [==============================] - 1s 1ms/step - loss: 2.8366 - mean_absolute_error: 1.2845 - mean_absolute_percentage_error: 1.6214 - root_mean_squared_error: 1.6842\n",
      "Epoch 41/100\n",
      "789/789 [==============================] - 1s 1ms/step - loss: 2.7792 - mean_absolute_error: 1.2677 - mean_absolute_percentage_error: 1.5946 - root_mean_squared_error: 1.6671\n",
      "Epoch 42/100\n",
      "789/789 [==============================] - 1s 1ms/step - loss: 2.7257 - mean_absolute_error: 1.2520 - mean_absolute_percentage_error: 1.5696 - root_mean_squared_error: 1.6510\n",
      "Epoch 43/100\n",
      "789/789 [==============================] - 1s 1ms/step - loss: 2.6756 - mean_absolute_error: 1.2371 - mean_absolute_percentage_error: 1.5459 - root_mean_squared_error: 1.6357\n",
      "Epoch 44/100\n"
     ]
    },
    {
     "name": "stdout",
     "output_type": "stream",
     "text": [
      "789/789 [==============================] - 1s 1ms/step - loss: 2.6284 - mean_absolute_error: 1.2230 - mean_absolute_percentage_error: 1.5233 - root_mean_squared_error: 1.6212\n",
      "Epoch 45/100\n",
      "789/789 [==============================] - 1s 1ms/step - loss: 2.5837 - mean_absolute_error: 1.2094 - mean_absolute_percentage_error: 1.5012 - root_mean_squared_error: 1.6074\n",
      "Epoch 46/100\n",
      "789/789 [==============================] - 1s 1ms/step - loss: 2.5412 - mean_absolute_error: 1.1963 - mean_absolute_percentage_error: 1.4801 - root_mean_squared_error: 1.5941\n",
      "Epoch 47/100\n",
      "789/789 [==============================] - 1s 1ms/step - loss: 2.5007 - mean_absolute_error: 1.1837 - mean_absolute_percentage_error: 1.4595 - root_mean_squared_error: 1.5813\n",
      "Epoch 48/100\n",
      "789/789 [==============================] - 1s 1ms/step - loss: 2.4618 - mean_absolute_error: 1.1715 - mean_absolute_percentage_error: 1.4394 - root_mean_squared_error: 1.5690\n",
      "Epoch 49/100\n",
      "789/789 [==============================] - 1s 1ms/step - loss: 2.4244 - mean_absolute_error: 1.1596 - mean_absolute_percentage_error: 1.4197 - root_mean_squared_error: 1.5570\n",
      "Epoch 50/100\n",
      "789/789 [==============================] - 1s 1ms/step - loss: 2.3885 - mean_absolute_error: 1.1482 - mean_absolute_percentage_error: 1.4006 - root_mean_squared_error: 1.5455\n",
      "Epoch 51/100\n",
      "789/789 [==============================] - 1s 1ms/step - loss: 2.3536 - mean_absolute_error: 1.1370 - mean_absolute_percentage_error: 1.3817 - root_mean_squared_error: 1.5342\n",
      "Epoch 52/100\n",
      "789/789 [==============================] - 1s 2ms/step - loss: 2.3199 - mean_absolute_error: 1.1260 - mean_absolute_percentage_error: 1.3629 - root_mean_squared_error: 1.5231\n",
      "Epoch 53/100\n",
      "789/789 [==============================] - 1s 1ms/step - loss: 2.2870 - mean_absolute_error: 1.1152 - mean_absolute_percentage_error: 1.3442 - root_mean_squared_error: 1.5123\n",
      "Epoch 54/100\n",
      "789/789 [==============================] - 1s 1ms/step - loss: 2.2549 - mean_absolute_error: 1.1044 - mean_absolute_percentage_error: 1.3257 - root_mean_squared_error: 1.5016\n",
      "Epoch 55/100\n",
      "789/789 [==============================] - 1s 1ms/step - loss: 2.2236 - mean_absolute_error: 1.0939 - mean_absolute_percentage_error: 1.3074 - root_mean_squared_error: 1.4912\n",
      "Epoch 56/100\n",
      "789/789 [==============================] - 1s 1ms/step - loss: 2.1932 - mean_absolute_error: 1.0836 - mean_absolute_percentage_error: 1.2894 - root_mean_squared_error: 1.4809\n",
      "Epoch 57/100\n",
      "789/789 [==============================] - 1s 1ms/step - loss: 2.1635 - mean_absolute_error: 1.0733 - mean_absolute_percentage_error: 1.2715 - root_mean_squared_error: 1.4709\n",
      "Epoch 58/100\n",
      "789/789 [==============================] - 1s 1ms/step - loss: 2.1346 - mean_absolute_error: 1.0633 - mean_absolute_percentage_error: 1.2538 - root_mean_squared_error: 1.4610\n",
      "Epoch 59/100\n",
      "789/789 [==============================] - 1s 1ms/step - loss: 2.1064 - mean_absolute_error: 1.0533 - mean_absolute_percentage_error: 1.2362 - root_mean_squared_error: 1.4513\n",
      "Epoch 60/100\n",
      "789/789 [==============================] - 1s 2ms/step - loss: 2.0789 - mean_absolute_error: 1.0435 - mean_absolute_percentage_error: 1.2188 - root_mean_squared_error: 1.4418\n",
      "Epoch 61/100\n",
      "789/789 [==============================] - 1s 1ms/step - loss: 2.0522 - mean_absolute_error: 1.0337 - mean_absolute_percentage_error: 1.2015 - root_mean_squared_error: 1.4326\n",
      "Epoch 62/100\n",
      "789/789 [==============================] - 1s 1ms/step - loss: 2.0263 - mean_absolute_error: 1.0241 - mean_absolute_percentage_error: 1.1846 - root_mean_squared_error: 1.4235\n",
      "Epoch 63/100\n",
      "789/789 [==============================] - 1s 1ms/step - loss: 2.0013 - mean_absolute_error: 1.0148 - mean_absolute_percentage_error: 1.1678 - root_mean_squared_error: 1.4147\n",
      "Epoch 64/100\n",
      "789/789 [==============================] - 1s 1ms/step - loss: 1.9771 - mean_absolute_error: 1.0056 - mean_absolute_percentage_error: 1.1515 - root_mean_squared_error: 1.4061\n",
      "Epoch 65/100\n",
      "789/789 [==============================] - 1s 1ms/step - loss: 1.9536 - mean_absolute_error: 0.9967 - mean_absolute_percentage_error: 1.1355 - root_mean_squared_error: 1.3977\n",
      "Epoch 66/100\n",
      "789/789 [==============================] - 1s 1ms/step - loss: 1.9310 - mean_absolute_error: 0.9879 - mean_absolute_percentage_error: 1.1199 - root_mean_squared_error: 1.3896\n",
      "Epoch 67/100\n",
      "789/789 [==============================] - 1s 1ms/step - loss: 1.9093 - mean_absolute_error: 0.9795 - mean_absolute_percentage_error: 1.1050 - root_mean_squared_error: 1.3818\n",
      "Epoch 68/100\n",
      "789/789 [==============================] - 1s 1ms/step - loss: 1.8885 - mean_absolute_error: 0.9714 - mean_absolute_percentage_error: 1.0906 - root_mean_squared_error: 1.3742\n",
      "Epoch 69/100\n",
      "789/789 [==============================] - 1s 1ms/step - loss: 1.8684 - mean_absolute_error: 0.9634 - mean_absolute_percentage_error: 1.0766 - root_mean_squared_error: 1.3669\n",
      "Epoch 70/100\n",
      "789/789 [==============================] - 1s 1ms/step - loss: 1.8490 - mean_absolute_error: 0.9557 - mean_absolute_percentage_error: 1.0632 - root_mean_squared_error: 1.3598\n",
      "Epoch 71/100\n",
      "789/789 [==============================] - 1s 1ms/step - loss: 1.8307 - mean_absolute_error: 0.9483 - mean_absolute_percentage_error: 1.0504 - root_mean_squared_error: 1.3530\n",
      "Epoch 72/100\n",
      "789/789 [==============================] - 2s 2ms/step - loss: 1.8131 - mean_absolute_error: 0.9412 - mean_absolute_percentage_error: 1.0381 - root_mean_squared_error: 1.3465\n",
      "Epoch 73/100\n",
      "789/789 [==============================] - 1s 2ms/step - loss: 1.7960 - mean_absolute_error: 0.9343 - mean_absolute_percentage_error: 1.0261 - root_mean_squared_error: 1.3401\n",
      "Epoch 74/100\n",
      "789/789 [==============================] - 1s 2ms/step - loss: 1.7796 - mean_absolute_error: 0.9275 - mean_absolute_percentage_error: 1.0145 - root_mean_squared_error: 1.3340\n",
      "Epoch 75/100\n",
      "789/789 [==============================] - 1s 1ms/step - loss: 1.7640 - mean_absolute_error: 0.9211 - mean_absolute_percentage_error: 1.0036 - root_mean_squared_error: 1.3282\n",
      "Epoch 76/100\n",
      "789/789 [==============================] - 1s 1ms/step - loss: 1.7492 - mean_absolute_error: 0.9148 - mean_absolute_percentage_error: 0.9928 - root_mean_squared_error: 1.3226\n",
      "Epoch 77/100\n",
      "789/789 [==============================] - 1s 1ms/step - loss: 1.7347 - mean_absolute_error: 0.9086 - mean_absolute_percentage_error: 0.9824 - root_mean_squared_error: 1.3171\n",
      "Epoch 78/100\n",
      "789/789 [==============================] - 1s 1ms/step - loss: 1.7212 - mean_absolute_error: 0.9027 - mean_absolute_percentage_error: 0.9726 - root_mean_squared_error: 1.3119\n",
      "Epoch 79/100\n",
      "789/789 [==============================] - 1s 2ms/step - loss: 1.7083 - mean_absolute_error: 0.8972 - mean_absolute_percentage_error: 0.9632 - root_mean_squared_error: 1.3070\n",
      "Epoch 80/100\n",
      "789/789 [==============================] - 1s 2ms/step - loss: 1.6961 - mean_absolute_error: 0.8920 - mean_absolute_percentage_error: 0.9543 - root_mean_squared_error: 1.3023\n",
      "Epoch 81/100\n",
      "789/789 [==============================] - 1s 2ms/step - loss: 1.6845 - mean_absolute_error: 0.8870 - mean_absolute_percentage_error: 0.9459 - root_mean_squared_error: 1.2979\n",
      "Epoch 82/100\n",
      "789/789 [==============================] - 1s 1ms/step - loss: 1.6737 - mean_absolute_error: 0.8824 - mean_absolute_percentage_error: 0.9382 - root_mean_squared_error: 1.2937\n",
      "Epoch 83/100\n",
      "789/789 [==============================] - 1s 1ms/step - loss: 1.6634 - mean_absolute_error: 0.8781 - mean_absolute_percentage_error: 0.9309 - root_mean_squared_error: 1.2897\n",
      "Epoch 84/100\n",
      "789/789 [==============================] - 1s 1ms/step - loss: 1.6539 - mean_absolute_error: 0.8739 - mean_absolute_percentage_error: 0.9241 - root_mean_squared_error: 1.2860\n",
      "Epoch 85/100\n",
      "789/789 [==============================] - 1s 1ms/step - loss: 1.6451 - mean_absolute_error: 0.8701 - mean_absolute_percentage_error: 0.9176 - root_mean_squared_error: 1.2826\n",
      "Epoch 86/100\n",
      "789/789 [==============================] - 1s 1ms/step - loss: 1.6371 - mean_absolute_error: 0.8666 - mean_absolute_percentage_error: 0.9116 - root_mean_squared_error: 1.2795\n",
      "Epoch 87/100\n"
     ]
    },
    {
     "name": "stdout",
     "output_type": "stream",
     "text": [
      "789/789 [==============================] - 1s 1ms/step - loss: 1.6297 - mean_absolute_error: 0.8635 - mean_absolute_percentage_error: 0.9060 - root_mean_squared_error: 1.2766\n",
      "Epoch 88/100\n",
      "789/789 [==============================] - 1s 1ms/step - loss: 1.6227 - mean_absolute_error: 0.8605 - mean_absolute_percentage_error: 0.9009 - root_mean_squared_error: 1.2739\n",
      "Epoch 89/100\n",
      "789/789 [==============================] - 1s 1ms/step - loss: 1.6161 - mean_absolute_error: 0.8577 - mean_absolute_percentage_error: 0.8961 - root_mean_squared_error: 1.2713\n",
      "Epoch 90/100\n",
      "789/789 [==============================] - 1s 1ms/step - loss: 1.6099 - mean_absolute_error: 0.8551 - mean_absolute_percentage_error: 0.8915 - root_mean_squared_error: 1.2688\n",
      "Epoch 91/100\n",
      "789/789 [==============================] - 1s 1ms/step - loss: 1.6044 - mean_absolute_error: 0.8527 - mean_absolute_percentage_error: 0.8871 - root_mean_squared_error: 1.2666\n",
      "Epoch 92/100\n",
      "789/789 [==============================] - 1s 1ms/step - loss: 1.5993 - mean_absolute_error: 0.8504 - mean_absolute_percentage_error: 0.8831 - root_mean_squared_error: 1.2647\n",
      "Epoch 93/100\n",
      "789/789 [==============================] - 1s 2ms/step - loss: 1.5946 - mean_absolute_error: 0.8485 - mean_absolute_percentage_error: 0.8795 - root_mean_squared_error: 1.2628\n",
      "Epoch 94/100\n",
      "789/789 [==============================] - 1s 2ms/step - loss: 1.5900 - mean_absolute_error: 0.8466 - mean_absolute_percentage_error: 0.8762 - root_mean_squared_error: 1.2609\n",
      "Epoch 95/100\n",
      "789/789 [==============================] - 1s 2ms/step - loss: 1.5857 - mean_absolute_error: 0.8449 - mean_absolute_percentage_error: 0.8732 - root_mean_squared_error: 1.2593\n",
      "Epoch 96/100\n",
      "789/789 [==============================] - 1s 1ms/step - loss: 1.5818 - mean_absolute_error: 0.8434 - mean_absolute_percentage_error: 0.8704 - root_mean_squared_error: 1.2577\n",
      "Epoch 97/100\n",
      "789/789 [==============================] - 1s 2ms/step - loss: 1.5782 - mean_absolute_error: 0.8420 - mean_absolute_percentage_error: 0.8678 - root_mean_squared_error: 1.2563\n",
      "Epoch 98/100\n",
      "789/789 [==============================] - 1s 1ms/step - loss: 1.5746 - mean_absolute_error: 0.8404 - mean_absolute_percentage_error: 0.8649 - root_mean_squared_error: 1.2548\n",
      "Epoch 99/100\n",
      "789/789 [==============================] - 1s 1ms/step - loss: 1.5712 - mean_absolute_error: 0.8388 - mean_absolute_percentage_error: 0.8619 - root_mean_squared_error: 1.2535\n",
      "Epoch 100/100\n",
      "789/789 [==============================] - 1s 1ms/step - loss: 1.5683 - mean_absolute_error: 0.8374 - mean_absolute_percentage_error: 0.8594 - root_mean_squared_error: 1.2523\n"
     ]
    }
   ],
   "source": [
    "#Training the LSTM Model\n",
    "history=lstm.fit(X_train, y_train, epochs=100, batch_size=8, verbose=1, shuffle=False)"
   ]
  },
  {
   "cell_type": "markdown",
   "id": "58252e8c",
   "metadata": {},
   "source": [
    "## Model Evaluation"
   ]
  },
  {
   "cell_type": "code",
   "execution_count": 10,
   "id": "9d3a710b",
   "metadata": {},
   "outputs": [
    {
     "name": "stdout",
     "output_type": "stream",
     "text": [
      "789/789 [==============================] - 1s 972us/step - loss: 5.4405 - mean_absolute_error: 1.6673 - mean_absolute_percentage_error: 1.7348 - root_mean_squared_error: 2.3325\n"
     ]
    },
    {
     "data": {
      "text/plain": [
       "[5.440496921539307, 1.667348861694336, 1.734784483909607, 2.3324873447418213]"
      ]
     },
     "execution_count": 10,
     "metadata": {},
     "output_type": "execute_result"
    }
   ],
   "source": [
    "#Evaluation metrics: 1) Mean Square Error 2) Mean Absolute Error \n",
    "#                    3) Mean Absolute Percentage Error 4) Root Mean Square Error\n",
    "lstm.evaluate(X_train, y_train, batch_size=8, verbose=1)"
   ]
  },
  {
   "cell_type": "markdown",
   "id": "5858b8d2",
   "metadata": {},
   "source": [
    "#### The Mean Squared Error measures how close a regression line is to a set of data points. It is a risk function corresponding to the expected value of the squared error loss. <br> Mean square error is calculated by taking the average, specifically the mean, of errors squared from data as it relates to a function.\n",
    "#### RMSE is the square root of MSE. <br> MSE is measured in units that are the square of the target variable, while RMSE is measured in the same units as the target variable. Due to its formulation, MSE, just like the squared loss function that it derives from, effectively penalizes larger errors more severely."
   ]
  },
  {
   "cell_type": "markdown",
   "id": "144c644b",
   "metadata": {},
   "source": [
    "#### Mean Absolute Error (MAE) is a measure of the average size of the mistakes in a collection of predictions, without taking their direction into account. <br> It is measured as the average absolute difference between the predicted values and the actual values and is used to assess the effectiveness of a regression model.\n",
    "#### Mean Absolute Percentage Error (MAPE) is the mean of all absolute percentage errors between the predicted and actual values. <br> It is a popular metric to use as it returns the error as a percentage, making it both easy for end users to understand and simple to compare model accuracy across use cases and datasets."
   ]
  },
  {
   "cell_type": "markdown",
   "id": "2efc5a2c",
   "metadata": {},
   "source": [
    "## Model Prediction"
   ]
  },
  {
   "cell_type": "code",
   "execution_count": 11,
   "id": "37e8aa01",
   "metadata": {},
   "outputs": [
    {
     "name": "stdout",
     "output_type": "stream",
     "text": [
      "40/40 [==============================] - 0s 1ms/step\n"
     ]
    }
   ],
   "source": [
    "#LSTM Model Prediction\n",
    "y_pred= lstm.predict(X_test)"
   ]
  },
  {
   "cell_type": "code",
   "execution_count": 12,
   "id": "020878c1",
   "metadata": {},
   "outputs": [
    {
     "data": {
      "text/plain": [
       "array([[234.12233],\n",
       "       [232.4192 ],\n",
       "       [232.71811],\n",
       "       ...,\n",
       "       [388.89844],\n",
       "       [392.53427],\n",
       "       [397.1061 ]], dtype=float32)"
      ]
     },
     "execution_count": 12,
     "metadata": {},
     "output_type": "execute_result"
    }
   ],
   "source": [
    "# prediction output\n",
    "y_pred"
   ]
  },
  {
   "cell_type": "markdown",
   "id": "0c4d9c9e",
   "metadata": {},
   "source": [
    "## Visualizing the results"
   ]
  },
  {
   "cell_type": "code",
   "execution_count": 13,
   "id": "a2e8e953",
   "metadata": {},
   "outputs": [],
   "source": [
    "y_train_df = df.iloc[:len(X_train)]['Adj Close']\n",
    "y_test_df = df.iloc[len(X_train):]['Adj Close']\n",
    "y_pred_df = pd.DataFrame(data=y_pred, columns=['Adj Close'],index=np.arange(len(X_train),len(df)))"
   ]
  },
  {
   "cell_type": "code",
   "execution_count": 14,
   "id": "3b06bfbe",
   "metadata": {},
   "outputs": [
    {
     "data": {
      "image/png": "[encoded data removed]",
      "text/plain": [
       "<Figure size 1152x576 with 1 Axes>"
      ]
     },
     "metadata": {
      "needs_background": "light"
     },
     "output_type": "display_data"
    }
   ],
   "source": [
    "#Predicted vs True Adj Close Value – LSTM\n",
    "plt.subplots(figsize=(16,8))\n",
    "plt.plot(y_test, label='True Value', color=\"blue\")\n",
    "plt.plot(y_pred, label='LSTM Value', color=\"red\")\n",
    "plt.title('Prediction by LSTM')\n",
    "plt.xlabel('Time Scale (1-day)')\n",
    "plt.ylabel('Price')\n",
    "plt.legend()\n",
    "plt.show()"
   ]
  },
  {
   "cell_type": "code",
   "execution_count": 15,
   "id": "427885bb",
   "metadata": {
    "scrolled": false
   },
   "outputs": [
    {
     "data": {
      "image/png": "[encoded data removed]",
      "text/plain": [
       "<Figure size 1152x576 with 1 Axes>"
      ]
     },
     "metadata": {
      "needs_background": "light"
     },
     "output_type": "display_data"
    }
   ],
   "source": [
    "#Full overview of data & prediction\n",
    "plt.subplots(figsize=(16,8))\n",
    "plt.plot(y_train_df, label='Train True Value', color=\"green\")\n",
    "plt.plot(y_test_df, label='Test True Value', color=\"blue\")\n",
    "plt.plot(y_pred_df, label='LSTM Value', color=\"red\")\n",
    "plt.title('Overview: SPY Prediction by LSTM')\n",
    "plt.xlabel('Time Scale (1-day)')\n",
    "plt.ylabel('Price')\n",
    "plt.legend()\n",
    "plt.show()"
   ]
  },
  {
   "cell_type": "markdown",
   "id": "e379971a",
   "metadata": {},
   "source": [
    "## End. Thank you!"
   ]
  }
 ],
 "metadata": {
  "kernelspec": {
   "display_name": "Python 3 (ipykernel)",
   "language": "python",
   "name": "python3"
  },
  "language_info": {
   "codemirror_mode": {
    "name": "ipython",
    "version": 3
   },
   "file_extension": ".py",
   "mimetype": "text/x-python",
   "name": "python",
   "nbconvert_exporter": "python",
   "pygments_lexer": "ipython3",
   "version": "3.9.12"
  }
 },
 "nbformat": 4,
 "nbformat_minor": 5
}
